{
 "cells": [
  {
   "cell_type": "markdown",
   "metadata": {},
   "source": [
    "## Mathematical formulation"
   ]
  },
  {
   "cell_type": "markdown",
   "metadata": {},
   "source": [
    "### Unit length streets"
   ]
  },
  {
   "cell_type": "markdown",
   "metadata": {},
   "source": [
    "The vector of trip request rates is $\\lambda$, and the vector of taxi densities (not including the taxi in consideration) is $\\rho$. We assume that the probability a particular taxi gets a trip is the probability a trip is generated ($\\lambda$) times the probability that taxi is picked $\\left(\\frac{1}{\\rho+1}\\right)$. Let $\\Pi_\\rho$ be the policy followed when densities are at $\\rho$. Let $\\rho'$ be the new densities after one timestep has passed. $\\rho'=\\Pi_\\rho\\max(0, \\rho - 1)$ assuming that all cars move to another road within the next timestep except the one that picked up a passenger. Then the expected waiting time for a taxi introduced at a node $i$ is given by $x_i$ where\n",
    "$$ x_\\rho = \\frac{\\lambda}{\\rho + 1} + \\left(1 - \\frac{\\lambda}{\\rho + 1}\\right) \\Pi_{\\rho'}^Tx_{\\rho'} $$"
   ]
  },
  {
   "cell_type": "markdown",
   "metadata": {},
   "source": [
    "The policy matrix $\\Pi_\\rho$ is just $x_\\rho$ multiplied columnwise on the adjacency matrix. "
   ]
  },
  {
   "cell_type": "markdown",
   "metadata": {},
   "source": [
    "This is finding the nash equilibrium greedy strategy, not the true shared strategy"
   ]
  },
  {
   "cell_type": "markdown",
   "metadata": {},
   "source": [
    "A function approximator should be able to use only entries of $\\rho$ in a small radius of $i$ to find $x_i$. Might learn better. "
   ]
  },
  {
   "cell_type": "markdown",
   "metadata": {},
   "source": [
    "We ideally want to find the time incurred for EVERYONE if a new car is deployed to a place"
   ]
  },
  {
   "cell_type": "markdown",
   "metadata": {},
   "source": [
    "## Make a 2D example for testing"
   ]
  },
  {
   "cell_type": "code",
   "execution_count": 1,
   "metadata": {},
   "outputs": [],
   "source": [
    "using Laplacians: grid2\n",
    "using Knet, Distributions"
   ]
  },
  {
   "cell_type": "code",
   "execution_count": 2,
   "metadata": {},
   "outputs": [],
   "source": [
    "const A = grid2(10);"
   ]
  },
  {
   "cell_type": "code",
   "execution_count": 3,
   "metadata": {},
   "outputs": [],
   "source": [
    "const roads = size(A)[1];\n",
    "const lam = max.(rand(roads) / 5, 1e-9);"
   ]
  },
  {
   "cell_type": "markdown",
   "metadata": {},
   "source": [
    "## Policy Utils"
   ]
  },
  {
   "cell_type": "code",
   "execution_count": 4,
   "metadata": {},
   "outputs": [
    {
     "data": {
      "text/plain": [
       "fixedPoint (generic function with 1 method)"
      ]
     },
     "execution_count": 4,
     "metadata": {},
     "output_type": "execute_result"
    }
   ],
   "source": [
    "function fixedPoint(f, initial)\n",
    "  while true\n",
    "    newval = f(initial)\n",
    "    if isapprox(newval, initial)\n",
    "      return newval\n",
    "    end\n",
    "    initial = newval\n",
    "  end\n",
    "end"
   ]
  },
  {
   "cell_type": "code",
   "execution_count": 5,
   "metadata": {},
   "outputs": [
    {
     "data": {
      "text/plain": [
       "scorePolicy (generic function with 1 method)"
      ]
     },
     "execution_count": 5,
     "metadata": {},
     "output_type": "execute_result"
    }
   ],
   "source": [
    "function scorePolicy(scores)\n",
    "  r = spdiagm(scores) * A\n",
    "  r * spdiagm(1./ reshape(sum(r, 1), :))\n",
    "end"
   ]
  },
  {
   "cell_type": "code",
   "execution_count": 23,
   "metadata": {},
   "outputs": [
    {
     "data": {
      "text/plain": [
       "ptrPolicy (generic function with 1 method)"
      ]
     },
     "execution_count": 23,
     "metadata": {},
     "output_type": "execute_result"
    }
   ],
   "source": [
    "ptrPolicy(ptrs) = sparse(ptrs, 1:roads, ones(roads), roads, roads)"
   ]
  },
  {
   "cell_type": "code",
   "execution_count": 7,
   "metadata": {},
   "outputs": [
    {
     "data": {
      "text/plain": [
       "neighborMin (generic function with 1 method)"
      ]
     },
     "execution_count": 7,
     "metadata": {},
     "output_type": "execute_result"
    }
   ],
   "source": [
    "function neighborMin(A::SparseMatrixCSC{Float64,Int},v::Array{Float64,1})\n",
    "    w = zeros(Int,A.m)\n",
    "    c = fill(Inf64, A.m)\n",
    "    for vi in 1:A.m\n",
    "        for ind in A.colptr[vi]:(A.colptr[vi+1]-1)\n",
    "            nbr = A.rowval[ind]\n",
    "            newval =v[nbr]\n",
    "            if newval <= c[vi]\n",
    "                c[vi] = newval\n",
    "                w[vi] = nbr\n",
    "            end\n",
    "        end\n",
    "    end\n",
    "    @assert ~any(isinf.(c))\n",
    "    (c, w)\n",
    "end"
   ]
  },
  {
   "cell_type": "markdown",
   "metadata": {},
   "source": [
    "## Single agent dynamic programming"
   ]
  },
  {
   "cell_type": "code",
   "execution_count": 8,
   "metadata": {},
   "outputs": [],
   "source": [
    "# Proportional dispatch\n",
    "singlePolPropM = scorePolicy(1 ./ fixedPoint(x-> lam .+ (1 .- lam) .* (scorePolicy(x).' * x), 1./ lam));\n",
    "singlePolProp(_) = singlePolPropM;"
   ]
  },
  {
   "cell_type": "code",
   "execution_count": 24,
   "metadata": {},
   "outputs": [],
   "source": [
    "# Greedy dispatch\n",
    "singlePolMaxM = ptrPolicy(neighborMin(A, fixedPoint(x->lam .+ (1 .- lam) .* (1 .+ neighborMin(A, x)[1]), 1 ./ lam))[2]);\n",
    "singlePolMax(_) = singlePolMaxM;"
   ]
  },
  {
   "cell_type": "markdown",
   "metadata": {
    "heading_collapsed": true
   },
   "source": [
    "## Train the multi-agent policy with a neural net"
   ]
  },
  {
   "cell_type": "code",
   "execution_count": 4,
   "metadata": {
    "hidden": true
   },
   "outputs": [],
   "source": [
    "w = 0.1*randn(roads, roads);\n",
    "b = fill(1.0, roads);\n",
    "model = (w,b);"
   ]
  },
  {
   "cell_type": "code",
   "execution_count": 6,
   "metadata": {
    "hidden": true
   },
   "outputs": [],
   "source": [
    "o = optimizers(model, Adam);"
   ]
  },
  {
   "cell_type": "code",
   "execution_count": 7,
   "metadata": {
    "hidden": true
   },
   "outputs": [
    {
     "data": {
      "text/plain": [
       "predict (generic function with 1 method)"
      ]
     },
     "execution_count": 7,
     "metadata": {},
     "output_type": "execute_result"
    }
   ],
   "source": [
    "predict(params, rho) = max.(0, params[1] * rho .+ params[2])"
   ]
  },
  {
   "cell_type": "code",
   "execution_count": 8,
   "metadata": {
    "hidden": true
   },
   "outputs": [],
   "source": [
    "function loss(params, rho)\n",
    "  timeEst = predict(params, rho)\n",
    "  pol = makePolicy(getval(timeEst))\n",
    "  p = lam ./ (rho .+ 1)\n",
    "  newRho = pol * max.(0, rho .- 1)\n",
    "  newEst = predict(params, newRho)\n",
    "  newPol = makePolicy(getval(newEst))\n",
    "  unlucky = (1 .- p) .* (newPol' * newEst)\n",
    "  mean(abs2, p + unlucky - timeEst)\n",
    "end\n",
    "\n",
    "lossFn = gradloss(loss);"
   ]
  },
  {
   "cell_type": "code",
   "execution_count": 9,
   "metadata": {
    "hidden": true
   },
   "outputs": [
    {
     "data": {
      "text/plain": [
       "train (generic function with 1 method)"
      ]
     },
     "execution_count": 9,
     "metadata": {},
     "output_type": "execute_result"
    }
   ],
   "source": [
    "function train()\n",
    "  running_loss = 0.0\n",
    "  for i in 1:5000\n",
    "    rho = trunc.(min.(10.0, randexp(roads) .* 5))\n",
    "    g, l = lossFn(model, rho)\n",
    "    running_loss += l\n",
    "    if i % 100 == 0\n",
    "      println(running_loss / 100.0)\n",
    "      running_loss = 0.0\n",
    "    end\n",
    "    update!(model, g, o)\n",
    "  end\n",
    "end"
   ]
  },
  {
   "cell_type": "code",
   "execution_count": 10,
   "metadata": {
    "collapsed": true,
    "hidden": true
   },
   "outputs": [
    {
     "name": "stdout",
     "output_type": "stream",
     "text": [
      "1.0788152757302674\n",
      "0.38696774281896906\n",
      "0.24410167433401203\n",
      "0.1554605609001662\n",
      "0.10433745941283329\n",
      "0.07197814709288955\n",
      "0.04723616617750756\n",
      "0.036226170285979735\n",
      "0.02766435582191134\n",
      "0.020415824079971286\n",
      "0.01807676831349987\n",
      "0.01826427114326385\n",
      "0.017569981721092864\n",
      "0.0144579885134201\n",
      "0.011588647852249194\n",
      "0.009908531844787937\n",
      "0.011380223263688293\n",
      "0.010236892927959724\n",
      "0.00852234475029963\n",
      "0.013677041508392211\n",
      "0.009037156202051802\n",
      "0.00969845335830429\n",
      "0.008998285414290288\n",
      "0.0065153389672372745\n",
      "0.008396550926877556\n",
      "0.00709153722949981\n",
      "0.004426843036018292\n",
      "0.010028697823935888\n",
      "0.0061239794668948135\n",
      "0.005661408748029023\n",
      "0.006894288068440835\n",
      "0.005797201946460047\n",
      "0.004241351880737388\n",
      "0.005471857304162879\n",
      "0.003575072165747104\n",
      "0.004316797037121418\n",
      "0.004954013189768592\n",
      "0.005069019401448774\n",
      "0.0043832315338216835\n",
      "0.004874049879760897\n",
      "0.004494703819990189\n",
      "0.003143253308740851\n",
      "0.0037694529670302\n",
      "0.003885977602832832\n",
      "0.0038354487699149243\n",
      "0.004471738903213887\n",
      "0.004875801263293774\n",
      "0.004017156710445397\n",
      "0.004056339792642036\n",
      "0.004284982240957085\n"
     ]
    }
   ],
   "source": [
    "train()"
   ]
  },
  {
   "cell_type": "markdown",
   "metadata": {},
   "source": [
    "## Comparison"
   ]
  },
  {
   "cell_type": "markdown",
   "metadata": {},
   "source": [
    "Debugging starts here"
   ]
  },
  {
   "cell_type": "code",
   "execution_count": 10,
   "metadata": {},
   "outputs": [],
   "source": [
    "using PyPlot"
   ]
  },
  {
   "cell_type": "code",
   "execution_count": 11,
   "metadata": {},
   "outputs": [],
   "source": [
    "samplePolicy(m, rho) =\n",
    "  sum(rand(Multinomial(r, full(m[:,i]))) for (i, r) in enumerate(rho));"
   ]
  },
  {
   "cell_type": "code",
   "execution_count": 12,
   "metadata": {},
   "outputs": [
    {
     "data": {
      "text/plain": [
       "timeTilPickup (generic function with 1 method)"
      ]
     },
     "execution_count": 12,
     "metadata": {},
     "output_type": "execute_result"
    }
   ],
   "source": [
    "# This uses the unit-time roads assumption.\n",
    "function timeTilPickup(f, rho)\n",
    "  remaining = sum(rho)\n",
    "  finishTimes = zeros(remaining)\n",
    "  i = 0\n",
    "  while remaining >= 1\n",
    "    finished = (rho .>= 1) .& (rand(roads) .< lam)\n",
    "    done = sum(finished)\n",
    "    # @assert(done <= remaining)\n",
    "    newrho = rho .- finished\n",
    "    finishTimes[remaining-done+1:remaining] = i\n",
    "    remaining -= done\n",
    "    rho = f(newrho) * newrho\n",
    "    rho = samplePolicy(f(newrho), newrho)  \n",
    "    # @assert(isapprox(sum(rho), sum(newrho)))\n",
    "    i += 1\n",
    "  end\n",
    "  finishTimes\n",
    "end"
   ]
  },
  {
   "cell_type": "code",
   "execution_count": 17,
   "metadata": {},
   "outputs": [],
   "source": [
    "randPolM = scorePolicy(ones(roads));\n",
    "randPol(_) = randPolM;"
   ]
  },
  {
   "cell_type": "code",
   "execution_count": 14,
   "metadata": {},
   "outputs": [
    {
     "data": {
      "text/plain": [
       "greedyPol (generic function with 1 method)"
      ]
     },
     "execution_count": 14,
     "metadata": {},
     "output_type": "execute_result"
    }
   ],
   "source": [
    "greedyPolM = ptrPolicy(neighborMin(A, 1 ./ lam)[2]);\n",
    "greedyPol(_) = greedyPolM"
   ]
  },
  {
   "cell_type": "code",
   "execution_count": null,
   "metadata": {},
   "outputs": [],
   "source": [
    "# We're doing SO much worse than random.\n",
    "# Perhaps we're finding the worst policy instead of the best?"
   ]
  },
  {
   "cell_type": "code",
   "execution_count": 26,
   "metadata": {},
   "outputs": [
    {
     "data": {
      "image/png": "[encoded data removed]",
      "text/plain": [
       "PyPlot.Figure(PyObject <Figure size 640x480 with 1 Axes>)"
      ]
     },
     "metadata": {},
     "output_type": "display_data"
    }
   ],
   "source": [
    "rho = trunc.(Int, min.(10.0, randexp(roads) .* 5))\n",
    "plt[:hist](timeTilPickup(singlePolMax, rho), normed=true, alpha=0.3);\n",
    "plt[:hist](timeTilPickup(randPol, rho), normed=true, alpha=0.3);\n",
    "plt[:legend]([\"single\", \"random\"]);"
   ]
  },
  {
   "cell_type": "code",
   "execution_count": null,
   "metadata": {},
   "outputs": [],
   "source": [
    "greedyPolProp = constant(scorePolicy(lam));\n",
    "greedyPolMax = constant(ptrPolicy(neighborMin(A, 1 ./ lam)[2]))"
   ]
  },
  {
   "cell_type": "code",
   "execution_count": null,
   "metadata": {},
   "outputs": [],
   "source": [
    "# Stopped here"
   ]
  },
  {
   "cell_type": "code",
   "execution_count": 19,
   "metadata": {},
   "outputs": [
    {
     "data": {
      "text/plain": [
       "greedy (generic function with 1 method)"
      ]
     },
     "execution_count": 19,
     "metadata": {},
     "output_type": "execute_result"
    }
   ],
   "source": [
    "probA = spdiagm(lam) * A;\n",
    "best = @views [findmax(probA[:,i])[2] for i in 1:roads]\n",
    "greedyPol = sparse(best, 1:roads, ones(roads), roads, roads);\n",
    "greedy(_) = greedyPol"
   ]
  },
  {
   "cell_type": "code",
   "execution_count": 16,
   "metadata": {},
   "outputs": [
    {
     "data": {
      "text/plain": [
       "modelPolicy (generic function with 1 method)"
      ]
     },
     "execution_count": 16,
     "metadata": {},
     "output_type": "execute_result"
    }
   ],
   "source": [
    "function modelPolicy(rho)\n",
    "  return makePolicy(predict(model, rho))\n",
    "end"
   ]
  },
  {
   "cell_type": "code",
   "execution_count": null,
   "metadata": {},
   "outputs": [],
   "source": [
    "# is there a basin where they all end up?"
   ]
  },
  {
   "cell_type": "code",
   "execution_count": 46,
   "metadata": {},
   "outputs": [
    {
     "data": {
      "image/png": "[encoded data removed]",
      "text/plain": [
       "PyPlot.Figure(PyObject <Figure size 640x480 with 1 Axes>)"
      ]
     },
     "metadata": {},
     "output_type": "display_data"
    }
   ],
   "source": [
    "rho = trunc.(Int, min.(10.0, randexp(roads) .* 5))\n",
    "plt[:hist](timeTilPickup(modelPolicy, rho), normed=true, alpha=0.3);\n",
    "# plt[:hist](timeTilPickup(greedy), normed=true, alpha=0.3);\n",
    "plt[:hist](timeTilPickup(randPol), normed=true, alpha=0.3);\n",
    "plt[:legend]([\"trained\", \"random\"]);"
   ]
  }
 ],
 "metadata": {
  "kernelspec": {
   "display_name": "Julia 0.6.3",
   "language": "julia",
   "name": "julia-0.6"
  },
  "language_info": {
   "file_extension": ".jl",
   "mimetype": "application/julia",
   "name": "julia",
   "version": "0.6.3"
  }
 },
 "nbformat": 4,
 "nbformat_minor": 2
}
